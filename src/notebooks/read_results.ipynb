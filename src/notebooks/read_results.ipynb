{
 "cells": [
  {
   "cell_type": "code",
   "execution_count": null,
   "id": "ff71e1a1-9ee6-49f4-a9db-1fc18f180d5b",
   "metadata": {},
   "outputs": [],
   "source": [
    "# copy into subfolder in /results (or change rootdir) and run to get a tabular view of the results in the history.csv files\n",
    "\n",
    "import os\n",
    "import csv\n",
    "from tabulate import tabulate  # Install with `pip install tabulate`\n",
    "\n",
    "rootdir = os.path.join('./')\n",
    "results = []\n",
    "\n",
    "# Traverse the directory to find all history.csv files\n",
    "for subdir, dirs, files in os.walk(rootdir):\n",
    "    for file in sorted(files):  # Sort files by name\n",
    "        if file == 'history.csv':  # Check if the file is named 'history.csv'\n",
    "            file_path = os.path.join(subdir, file)\n",
    "            \n",
    "            # Open the CSV file\n",
    "            with open(file_path, 'r') as csvfile:\n",
    "                reader = csv.DictReader(csvfile, delimiter=',')  # Use DictReader for column access\n",
    "                last_row = None\n",
    "                \n",
    "                # Iterate through rows to get the last one\n",
    "                for row in reader:\n",
    "                    last_row = row\n",
    "                \n",
    "                # Extract the 'accuracy' column from the last row\n",
    "                if last_row and 'accuracy' in last_row:\n",
    "                    try:\n",
    "                        # Convert accuracy to percentage format (XX.X%)\n",
    "                        accuracy = float(last_row['accuracy']) * 100\n",
    "                        accuracy = f\"{accuracy:.1f}%\"  # Format as XX.X%\n",
    "                    except ValueError:\n",
    "                        accuracy = \"Invalid Value\"  # Handle non-numeric accuracy values\n",
    "                else:\n",
    "                    accuracy = \"N/A\"  # Handle missing 'accuracy' column or empty file\n",
    "\n",
    "                idfile_path = os.path.join(subdir, 'slurm-job-id.txt') # Go to ID file\n",
    "            \n",
    "                # Open the CSV file\n",
    "                with open(idfile_path, 'r') as idfile:\n",
    "                    job_id = idfile.readline()\n",
    "                \n",
    "                # Append the result as a tuple (file name, accuracy)\n",
    "                results.append((os.path.basename(os.path.dirname(file_path)), accuracy, job_id))\n",
    "\n",
    "# Sort results by file name\n",
    "results.sort(key=lambda x: x[2])\n",
    "\n",
    "# Print the results in a tabular format\n",
    "print(tabulate(results, headers=[\"File Name\", \"Last Accuracy\", \"job_id\"], tablefmt=\"grid\"))\n"
   ]
  },
  {
   "cell_type": "code",
   "execution_count": null,
   "id": "21b3584b-38db-476d-b557-898a892a284a",
   "metadata": {},
   "outputs": [],
   "source": []
  }
 ],
 "metadata": {
  "kernelspec": {
   "display_name": "Python 3",
   "language": "python",
   "name": "python3"
  },
  "language_info": {
   "codemirror_mode": {
    "name": "ipython",
    "version": 3
   },
   "file_extension": ".py",
   "mimetype": "text/x-python",
   "name": "python",
   "nbconvert_exporter": "python",
   "pygments_lexer": "ipython3",
   "version": "3.12.2"
  }
 },
 "nbformat": 4,
 "nbformat_minor": 5
}
