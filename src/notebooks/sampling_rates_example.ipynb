{
 "cells": [
  {
   "cell_type": "code",
   "execution_count": 15,
   "metadata": {},
   "outputs": [],
   "source": [
    "import os\n",
    "import sys\n",
    "PYTHONPATH = os.path.abspath('../')\n",
    "sys.path.append(PYTHONPATH)\n",
    "\n",
    "import numpy as np\n",
    "import tensorflow_federated as tff\n",
    "\n",
    "from idputils.sample import get_weights\n",
    "from helpers import create_budgets"
   ]
  },
  {
   "cell_type": "code",
   "execution_count": 31,
   "metadata": {},
   "outputs": [
    {
     "data": {
      "text/plain": [
       "3383"
      ]
     },
     "execution_count": 31,
     "metadata": {},
     "output_type": "execute_result"
    }
   ],
   "source": [
    "num_clients = len(tff.simulation.datasets.emnist.load_data()[0].client_ids)\n",
    "num_clients"
   ]
  },
  {
   "cell_type": "code",
   "execution_count": 32,
   "metadata": {},
   "outputs": [],
   "source": [
    "def create_client_budgets(num_clients: int, possible_budgets: np.array, budget_ratios: np.array, seed: int| None = None):\n",
    "    if seed:\n",
    "        np.random.seed(seed)\n",
    "    return np.random.choice(possible_budgets, size=num_clients, replace=True, p=budget_ratios)\n"
   ]
  },
  {
   "cell_type": "code",
   "execution_count": 39,
   "metadata": {},
   "outputs": [],
   "source": [
    "def get_expected_clients(client_budgets: np.array, group_sample_rates: np.array, available_budgets: np.array):\n",
    "    group_sizes = [len(list(filter(lambda x: x == b, client_budgets))) for b in available_budgets]\n",
    "    return [r * s for r, s in zip(group_sample_rates, group_sizes)]"
   ]
  },
  {
   "cell_type": "markdown",
   "metadata": {},
   "source": [
    "## EMNIST Setup"
   ]
  },
  {
   "cell_type": "code",
   "execution_count": 42,
   "metadata": {},
   "outputs": [
    {
     "data": {
      "text/plain": [
       "(0.9207538146972657,\n",
       " 50.07829634979559,\n",
       " [0.0032123941990686573, 0.016581548898403648, 0.028790681186796018])"
      ]
     },
     "execution_count": 42,
     "metadata": {},
     "output_type": "execute_result"
    }
   ],
   "source": [
    "available_budgets = np.array([1.0, 2.0, 3.0])\n",
    "budget_distribution = np.array([0.34, 0.43, 0.23])\n",
    "num_clients = len(tff.simulation.datasets.emnist.load_data()[0].client_ids)\n",
    "client_budgets = create_client_budgets(num_clients, possible_budgets=available_budgets, budget_ratios=budget_distribution, seed=42)\n",
    "target_delta = 1e-5\n",
    "clients_per_round = 50\n",
    "default_sample_rate = clients_per_round / num_clients\n",
    "rounds = 100\n",
    "noise_multiplier, sampling_rates = get_weights(client_budgets, target_delta=target_delta, default_sample_rate=default_sample_rate, steps=rounds)\n",
    "noise_multiplier, sum(get_expected_clients(client_budgets, sampling_rates, available_budgets)), sampling_rates"
   ]
  },
  {
   "cell_type": "code",
   "execution_count": 45,
   "metadata": {},
   "outputs": [
    {
     "name": "stdout",
     "output_type": "stream",
     "text": [
      "[20. 30. 20. 20. 10. 10. 10. 30. 20. 20.]\n"
     ]
    },
    {
     "data": {
      "text/plain": [
       "(0.38702806091308595,\n",
       " 50.084949736611094,\n",
       " [0.003042049052245129, 0.015270585260132297, 0.03151993539971974])"
      ]
     },
     "execution_count": 45,
     "metadata": {},
     "output_type": "execute_result"
    }
   ],
   "source": [
    "# modify budgets\n",
    "mod_budgets = {1.0: 10.0, 2.0: 20.0, 3.0: 30.0}\n",
    "modified_client_budgets = np.array([mod_budgets[b] for b in client_budgets])\n",
    "noise_multiplier, sampling_rates = get_weights(modified_client_budgets, target_delta=target_delta, default_sample_rate=default_sample_rate, steps=rounds)\n",
    "noise_multiplier, sum(get_expected_clients(client_budgets, sampling_rates, available_budgets)), sampling_rates"
   ]
  },
  {
   "cell_type": "code",
   "execution_count": 49,
   "metadata": {},
   "outputs": [
    {
     "data": {
      "text/plain": [
       "(0.9988749084472656,\n",
       " 50.072573970618585,\n",
       " [0.00621956771063088, 0.022212166959965706, 0.03606461879507059])"
      ]
     },
     "execution_count": 49,
     "metadata": {},
     "output_type": "execute_result"
    }
   ],
   "source": [
    "# modify distribution\n",
    "modified_client_budgets = create_client_budgets(num_clients, possible_budgets=available_budgets, budget_ratios=np.array([0.54, 0.37, 0.09]), seed=42)\n",
    "noise_multiplier, sampling_rates = get_weights(modified_client_budgets, target_delta=target_delta, default_sample_rate=default_sample_rate, steps=rounds)\n",
    "noise_multiplier, sum(get_expected_clients(modified_client_budgets, sampling_rates, available_budgets)), sampling_rates"
   ]
  },
  {
   "cell_type": "code",
   "execution_count": 50,
   "metadata": {},
   "outputs": [
    {
     "data": {
      "text/plain": [
       "(1.5072723388671876,\n",
       " 49.9949233910807,\n",
       " [0.027532694671359104, 0.0533675350948839, 0.07819891564507606])"
      ]
     },
     "execution_count": 50,
     "metadata": {},
     "output_type": "execute_result"
    }
   ],
   "source": [
    "# modify number of clients\n",
    "modified_num_clients = 1_000\n",
    "modified_client_budgets = create_client_budgets(modified_num_clients, possible_budgets=available_budgets, budget_ratios=budget_distribution)\n",
    "noise_multiplier, sampling_rates = get_weights(modified_client_budgets, target_delta=target_delta, default_sample_rate=clients_per_round / modified_num_clients, steps=rounds)\n",
    "noise_multiplier, sum(get_expected_clients(modified_client_budgets, sampling_rates, available_budgets)), sampling_rates"
   ]
  },
  {
   "cell_type": "code",
   "execution_count": 51,
   "metadata": {},
   "outputs": [
    {
     "data": {
      "text/plain": [
       "(1.3266173095703127,\n",
       " 49.94680993380449,\n",
       " [0.00824321621357987, 0.015718189086484986, 0.02272109322012547])"
      ]
     },
     "execution_count": 51,
     "metadata": {},
     "output_type": "execute_result"
    }
   ],
   "source": [
    "# modify rounds\n",
    "noise_multiplier, sampling_rates = get_weights(client_budgets, target_delta=target_delta, default_sample_rate=default_sample_rate, steps=1_000)\n",
    "noise_multiplier, sum(get_expected_clients(client_budgets, sampling_rates, available_budgets)), sampling_rates"
   ]
  },
  {
   "cell_type": "code",
   "execution_count": 52,
   "metadata": {},
   "outputs": [
    {
     "data": {
      "text/plain": [
       "(1.6830447998046876,\n",
       " 199.80638159984233,\n",
       " [0.03277757031864229, 0.06270887666535079, 0.09150944843476301])"
      ]
     },
     "execution_count": 52,
     "metadata": {},
     "output_type": "execute_result"
    }
   ],
   "source": [
    "# modify sampling rate\n",
    "noise_multiplier, sampling_rates = get_weights(client_budgets, target_delta=target_delta, default_sample_rate=200 / num_clients, steps=rounds)\n",
    "noise_multiplier, sum(get_expected_clients(client_budgets, sampling_rates, available_budgets)), sampling_rates"
   ]
  },
  {
   "cell_type": "code",
   "execution_count": null,
   "metadata": {},
   "outputs": [],
   "source": []
  }
 ],
 "metadata": {
  "kernelspec": {
   "display_name": "flidp-tf",
   "language": "python",
   "name": "python3"
  },
  "language_info": {
   "codemirror_mode": {
    "name": "ipython",
    "version": 3
   },
   "file_extension": ".py",
   "mimetype": "text/x-python",
   "name": "python",
   "nbconvert_exporter": "python",
   "pygments_lexer": "ipython3",
   "version": "3.11.8"
  }
 },
 "nbformat": 4,
 "nbformat_minor": 2
}
