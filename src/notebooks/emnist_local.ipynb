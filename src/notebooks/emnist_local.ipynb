{
 "cells": [
  {
   "cell_type": "code",
   "execution_count": 1,
   "metadata": {},
   "outputs": [
    {
     "name": "stderr",
     "output_type": "stream",
     "text": [
      "2024-05-31 14:04:53.203821: I tensorflow/tsl/cuda/cudart_stub.cc:28] Could not find cuda drivers on your machine, GPU will not be used.\n",
      "2024-05-31 14:04:53.233083: E tensorflow/compiler/xla/stream_executor/cuda/cuda_dnn.cc:9342] Unable to register cuDNN factory: Attempting to register factory for plugin cuDNN when one has already been registered\n",
      "2024-05-31 14:04:53.233135: E tensorflow/compiler/xla/stream_executor/cuda/cuda_fft.cc:609] Unable to register cuFFT factory: Attempting to register factory for plugin cuFFT when one has already been registered\n",
      "2024-05-31 14:04:53.233169: E tensorflow/compiler/xla/stream_executor/cuda/cuda_blas.cc:1518] Unable to register cuBLAS factory: Attempting to register factory for plugin cuBLAS when one has already been registered\n",
      "2024-05-31 14:04:53.239488: I tensorflow/tsl/cuda/cudart_stub.cc:28] Could not find cuda drivers on your machine, GPU will not be used.\n",
      "2024-05-31 14:04:53.240182: I tensorflow/core/platform/cpu_feature_guard.cc:182] This TensorFlow binary is optimized to use available CPU instructions in performance-critical operations.\n",
      "To enable the following instructions: AVX2 FMA, in other operations, rebuild TensorFlow with the appropriate compiler flags.\n",
      "2024-05-31 14:04:54.176882: W tensorflow/compiler/tf2tensorrt/utils/py_utils.cc:38] TF-TRT Warning: Could not find TensorRT\n",
      "/home/ole/miniconda3/envs/flidp-tf/lib/python3.11/site-packages/tqdm/auto.py:21: TqdmWarning: IProgress not found. Please update jupyter and ipywidgets. See https://ipywidgets.readthedocs.io/en/stable/user_install.html\n",
      "  from .autonotebook import tqdm as notebook_tqdm\n"
     ]
    }
   ],
   "source": [
    "import tensorflow as tf\n",
    "import tensorflow_datasets as tfds\n",
    "from matplotlib import pyplot as plt"
   ]
  },
  {
   "cell_type": "code",
   "execution_count": 3,
   "metadata": {},
   "outputs": [
    {
     "data": {
      "text/plain": [
       "(48000, 12000, 10000)"
      ]
     },
     "execution_count": 3,
     "metadata": {},
     "output_type": "execute_result"
    }
   ],
   "source": [
    "# mnist corresponds to federated emnist(only_digits=True)\n",
    "train_ds, val_ds = tfds.load('mnist', split=['train[:80%]', 'train[80%:]'])\n",
    "test_ds = tfds.load('mnist', split='test')\n",
    "len(train_ds), len(val_ds), len(test_ds)"
   ]
  },
  {
   "cell_type": "code",
   "execution_count": 4,
   "metadata": {},
   "outputs": [
    {
     "name": "stderr",
     "output_type": "stream",
     "text": [
      "2024-05-31 14:07:02.999482: W tensorflow/core/kernels/data/cache_dataset_ops.cc:854] The calling iterator did not fully read the dataset being cached. In order to avoid unexpected truncation of the dataset, the partially cached contents of the dataset  will be discarded. This can happen if you have an input pipeline similar to `dataset.cache().take(k).repeat()`. You should use `dataset.take(k).cache().repeat()` instead.\n"
     ]
    },
    {
     "data": {
      "text/plain": [
       "(<matplotlib.image.AxesImage at 0x7981dc0d6490>,\n",
       " <tf.Tensor: shape=(), dtype=int64, numpy=4>)"
      ]
     },
     "execution_count": 4,
     "metadata": {},
     "output_type": "execute_result"
    },
    {
     "data": {
      "image/png": "[encoded data removed]",
      "text/plain": [
       "<Figure size 640x480 with 1 Axes>"
      ]
     },
     "metadata": {},
     "output_type": "display_data"
    }
   ],
   "source": [
    "ex = next(iter(train_ds))\n",
    "plt.imshow(ex['image']), ex['label']"
   ]
  },
  {
   "cell_type": "code",
   "execution_count": 12,
   "metadata": {},
   "outputs": [
    {
     "data": {
      "text/plain": [
       "255"
      ]
     },
     "execution_count": 12,
     "metadata": {},
     "output_type": "execute_result"
    }
   ],
   "source": [
    "ex['image'].numpy().max()  # pixels should be scaled down between 0 and 1"
   ]
  },
  {
   "cell_type": "code",
   "execution_count": 14,
   "metadata": {},
   "outputs": [],
   "source": [
    "def preprocess_ds(ds, is_train=False):\n",
    "    def element_fn(element):\n",
    "        image = element['image']\n",
    "        label = element['label']\n",
    "        image = tf.cast(image, dtype=tf.float32) / 255.  # rescale image\n",
    "        return (image, label)\n",
    "    \n",
    "    if is_train:\n",
    "        return (\n",
    "            ds\n",
    "            .map(element_fn)\n",
    "            .shuffle(128)\n",
    "            .batch(512)  # just increasing the batch size improved the training process a lot idk why\n",
    "        )\n",
    "    else:\n",
    "        return (\n",
    "            ds\n",
    "            .map(element_fn)\n",
    "            .batch(512)\n",
    "        )"
   ]
  },
  {
   "cell_type": "code",
   "execution_count": 15,
   "metadata": {},
   "outputs": [],
   "source": [
    "train = preprocess_ds(train_ds, is_train=True)\n",
    "val = preprocess_ds(val_ds)\n",
    "test = preprocess_ds(test_ds)"
   ]
  },
  {
   "cell_type": "code",
   "execution_count": 23,
   "metadata": {},
   "outputs": [],
   "source": [
    "model = tf.keras.models.Sequential([\n",
    "    tf.keras.layers.Conv2D(32, (3, 3), activation='relu', input_shape=(28, 28, 1)),\n",
    "    tf.keras.layers.MaxPooling2D((2, 2)),\n",
    "    tf.keras.layers.Dropout(0.1),\n",
    "    tf.keras.layers.Conv2D(32, (3, 3), activation='relu'),\n",
    "    tf.keras.layers.MaxPooling2D((2, 2)),\n",
    "    tf.keras.layers.Dropout(0.1),\n",
    "    tf.keras.layers.Flatten(),\n",
    "    tf.keras.layers.Dense(64, activation=tf.nn.relu),\n",
    "    tf.keras.layers.Dropout(0.1),\n",
    "    tf.keras.layers.Dense(10),\n",
    "])\n",
    "\n",
    "loss_object = tf.keras.losses.SparseCategoricalCrossentropy(from_logits=True)\n",
    "optimizer = tf.keras.optimizers.Adam(learning_rate=1e-3)\n",
    "\n",
    "model.compile(\n",
    "    optimizer=optimizer, \n",
    "    loss=loss_object, \n",
    "    metrics=[tf.keras.metrics.SparseCategoricalAccuracy(name='accuracy')]\n",
    ")"
   ]
  },
  {
   "cell_type": "code",
   "execution_count": 24,
   "metadata": {},
   "outputs": [
    {
     "name": "stdout",
     "output_type": "stream",
     "text": [
      "Epoch 1/10\n",
      "94/94 [==============================] - 11s 113ms/step - loss: 0.7626 - accuracy: 0.7657 - val_loss: 0.2253 - val_accuracy: 0.9343\n",
      "Epoch 2/10\n",
      "94/94 [==============================] - 11s 115ms/step - loss: 0.2073 - accuracy: 0.9373 - val_loss: 0.1230 - val_accuracy: 0.9638\n",
      "Epoch 3/10\n",
      "94/94 [==============================] - 11s 114ms/step - loss: 0.1357 - accuracy: 0.9585 - val_loss: 0.0926 - val_accuracy: 0.9722\n",
      "Epoch 4/10\n",
      "94/94 [==============================] - 11s 115ms/step - loss: 0.1073 - accuracy: 0.9669 - val_loss: 0.0736 - val_accuracy: 0.9773\n",
      "Epoch 5/10\n",
      "94/94 [==============================] - 11s 114ms/step - loss: 0.0915 - accuracy: 0.9712 - val_loss: 0.0643 - val_accuracy: 0.9808\n",
      "Epoch 6/10\n",
      "94/94 [==============================] - 11s 114ms/step - loss: 0.0784 - accuracy: 0.9753 - val_loss: 0.0559 - val_accuracy: 0.9832\n",
      "Epoch 7/10\n",
      "94/94 [==============================] - 11s 115ms/step - loss: 0.0699 - accuracy: 0.9783 - val_loss: 0.0524 - val_accuracy: 0.9843\n",
      "Epoch 8/10\n",
      "94/94 [==============================] - 11s 115ms/step - loss: 0.0638 - accuracy: 0.9800 - val_loss: 0.0467 - val_accuracy: 0.9860\n",
      "Epoch 9/10\n",
      "94/94 [==============================] - 11s 116ms/step - loss: 0.0566 - accuracy: 0.9820 - val_loss: 0.0455 - val_accuracy: 0.9862\n",
      "Epoch 10/10\n",
      "94/94 [==============================] - 11s 118ms/step - loss: 0.0542 - accuracy: 0.9832 - val_loss: 0.0417 - val_accuracy: 0.9866\n"
     ]
    },
    {
     "data": {
      "text/plain": [
       "<keras.src.callbacks.History at 0x7981a4155b50>"
      ]
     },
     "execution_count": 24,
     "metadata": {},
     "output_type": "execute_result"
    }
   ],
   "source": [
    "model.fit(train, epochs=10, validation_data=val)"
   ]
  },
  {
   "cell_type": "code",
   "execution_count": 25,
   "metadata": {},
   "outputs": [
    {
     "name": "stdout",
     "output_type": "stream",
     "text": [
      "20/20 [==============================] - 1s 25ms/step - loss: 0.0382 - accuracy: 0.9873\n"
     ]
    },
    {
     "data": {
      "text/plain": [
       "[0.0381569005548954, 0.9872999787330627]"
      ]
     },
     "execution_count": 25,
     "metadata": {},
     "output_type": "execute_result"
    }
   ],
   "source": [
    "model.evaluate(test)"
   ]
  },
  {
   "cell_type": "code",
   "execution_count": null,
   "metadata": {},
   "outputs": [],
   "source": []
  }
 ],
 "metadata": {
  "kernelspec": {
   "display_name": "flidp-tf",
   "language": "python",
   "name": "python3"
  },
  "language_info": {
   "codemirror_mode": {
    "name": "ipython",
    "version": 3
   },
   "file_extension": ".py",
   "mimetype": "text/x-python",
   "name": "python",
   "nbconvert_exporter": "python",
   "pygments_lexer": "ipython3",
   "version": "3.11.8"
  }
 },
 "nbformat": 4,
 "nbformat_minor": 2
}
