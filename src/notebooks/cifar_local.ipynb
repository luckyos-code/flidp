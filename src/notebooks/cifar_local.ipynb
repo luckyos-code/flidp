{
 "cells": [
  {
   "cell_type": "code",
   "execution_count": 1,
   "metadata": {},
   "outputs": [
    {
     "name": "stderr",
     "output_type": "stream",
     "text": [
      "2024-06-27 14:13:34.152851: I tensorflow/tsl/cuda/cudart_stub.cc:28] Could not find cuda drivers on your machine, GPU will not be used.\n",
      "2024-06-27 14:13:34.179752: E tensorflow/compiler/xla/stream_executor/cuda/cuda_dnn.cc:9342] Unable to register cuDNN factory: Attempting to register factory for plugin cuDNN when one has already been registered\n",
      "2024-06-27 14:13:34.179786: E tensorflow/compiler/xla/stream_executor/cuda/cuda_fft.cc:609] Unable to register cuFFT factory: Attempting to register factory for plugin cuFFT when one has already been registered\n",
      "2024-06-27 14:13:34.179813: E tensorflow/compiler/xla/stream_executor/cuda/cuda_blas.cc:1518] Unable to register cuBLAS factory: Attempting to register factory for plugin cuBLAS when one has already been registered\n",
      "2024-06-27 14:13:34.186455: I tensorflow/tsl/cuda/cudart_stub.cc:28] Could not find cuda drivers on your machine, GPU will not be used.\n",
      "2024-06-27 14:13:34.187102: I tensorflow/core/platform/cpu_feature_guard.cc:182] This TensorFlow binary is optimized to use available CPU instructions in performance-critical operations.\n",
      "To enable the following instructions: AVX2 FMA, in other operations, rebuild TensorFlow with the appropriate compiler flags.\n",
      "2024-06-27 14:13:34.891505: W tensorflow/compiler/tf2tensorrt/utils/py_utils.cc:38] TF-TRT Warning: Could not find TensorRT\n",
      "/home/ole/miniconda3/envs/flidp-tf/lib/python3.11/site-packages/tqdm/auto.py:21: TqdmWarning: IProgress not found. Please update jupyter and ipywidgets. See https://ipywidgets.readthedocs.io/en/stable/user_install.html\n",
      "  from .autonotebook import tqdm as notebook_tqdm\n"
     ]
    }
   ],
   "source": [
    "import numpy as np\n",
    "from matplotlib import pyplot as plt\n",
    "%matplotlib inline\n",
    "import tensorflow as tf\n",
    "import tensorflow_datasets as tfds"
   ]
  },
  {
   "cell_type": "code",
   "execution_count": 2,
   "metadata": {},
   "outputs": [
    {
     "data": {
      "text/plain": [
       "(40000, 10000, 10000)"
      ]
     },
     "execution_count": 2,
     "metadata": {},
     "output_type": "execute_result"
    }
   ],
   "source": [
    "train_ds, val_ds = tfds.load(\"cifar100\", split=[\"train[:80%]\", \"train[80%:]\"])\n",
    "test_ds = tfds.load(\"cifar100\", split=\"test\")\n",
    "len(train_ds), len(val_ds), len(test_ds)"
   ]
  },
  {
   "cell_type": "code",
   "execution_count": 3,
   "metadata": {},
   "outputs": [
    {
     "name": "stderr",
     "output_type": "stream",
     "text": [
      "2024-06-27 14:13:36.497206: W tensorflow/core/kernels/data/cache_dataset_ops.cc:854] The calling iterator did not fully read the dataset being cached. In order to avoid unexpected truncation of the dataset, the partially cached contents of the dataset  will be discarded. This can happen if you have an input pipeline similar to `dataset.cache().take(k).repeat()`. You should use `dataset.take(k).cache().repeat()` instead.\n"
     ]
    },
    {
     "data": {
      "text/plain": [
       "(<matplotlib.image.AxesImage at 0x70f76867e750>,\n",
       " <tf.Tensor: shape=(), dtype=int64, numpy=12>)"
      ]
     },
     "execution_count": 3,
     "metadata": {},
     "output_type": "execute_result"
    },
    {
     "data": {
      "image/png": "[encoded data removed]",
      "text/plain": [
       "<Figure size 640x480 with 1 Axes>"
      ]
     },
     "metadata": {},
     "output_type": "display_data"
    }
   ],
   "source": [
    "ex = next(iter(train_ds))\n",
    "plt.imshow(ex['image']), ex['coarse_label']"
   ]
  },
  {
   "cell_type": "code",
   "execution_count": 4,
   "metadata": {},
   "outputs": [],
   "source": [
    "def preprocess_ds(ds, is_train=False):\n",
    "    def element_fn(element):\n",
    "        image = element['image']\n",
    "        label = element['coarse_label']\n",
    "        image = tf.cast(image, dtype=tf.float32) / 255.  # rescale image\n",
    "        return (image, label)\n",
    "    \n",
    "    if is_train:\n",
    "        return (\n",
    "            ds\n",
    "            .map(element_fn)\n",
    "            .shuffle(128)\n",
    "            .batch(256)  # just increasing the batch size improved the training process a lot idk why\n",
    "        )\n",
    "    else:\n",
    "        return (\n",
    "            ds\n",
    "            .map(element_fn)\n",
    "            .batch(512)\n",
    "        )"
   ]
  },
  {
   "cell_type": "code",
   "execution_count": 5,
   "metadata": {},
   "outputs": [],
   "source": [
    "train = preprocess_ds(train_ds, is_train=True)\n",
    "val = preprocess_ds(val_ds)\n",
    "test = preprocess_ds(test_ds)"
   ]
  },
  {
   "cell_type": "code",
   "execution_count": 6,
   "metadata": {},
   "outputs": [],
   "source": [
    "model = tf.keras.models.Sequential([\n",
    "    tf.keras.layers.Conv2D(32, (3, 3), activation='relu', input_shape=(32, 32, 3)),\n",
    "    tf.keras.layers.MaxPooling2D((2, 2)),\n",
    "    tf.keras.layers.Dropout(0.1),\n",
    "    tf.keras.layers.Conv2D(32, (3, 3), activation='relu'),\n",
    "    tf.keras.layers.MaxPooling2D((2, 2)),\n",
    "    tf.keras.layers.Dropout(0.1),\n",
    "    tf.keras.layers.Flatten(),\n",
    "    tf.keras.layers.Dense(64, activation='relu'),\n",
    "    tf.keras.layers.Dropout(0.1),\n",
    "    tf.keras.layers.Dense(20),\n",
    "])\n",
    "\n",
    "loss_object = tf.keras.losses.SparseCategoricalCrossentropy(from_logits=True)\n",
    "optimizer = tf.keras.optimizers.Adam(learning_rate=1e-3)\n",
    "\n",
    "model.compile(\n",
    "    optimizer=optimizer, \n",
    "    loss=loss_object, \n",
    "    metrics=[tf.keras.metrics.SparseCategoricalAccuracy(name='accuracy')]\n",
    ")"
   ]
  },
  {
   "cell_type": "code",
   "execution_count": 7,
   "metadata": {},
   "outputs": [
    {
     "name": "stdout",
     "output_type": "stream",
     "text": [
      "Model: \"sequential\"\n",
      "_________________________________________________________________\n",
      " Layer (type)                Output Shape              Param #   \n",
      "=================================================================\n",
      " conv2d (Conv2D)             (None, 30, 30, 32)        896       \n",
      "                                                                 \n",
      " max_pooling2d (MaxPooling2  (None, 15, 15, 32)        0         \n",
      " D)                                                              \n",
      "                                                                 \n",
      " dropout (Dropout)           (None, 15, 15, 32)        0         \n",
      "                                                                 \n",
      " conv2d_1 (Conv2D)           (None, 13, 13, 32)        9248      \n",
      "                                                                 \n",
      " max_pooling2d_1 (MaxPoolin  (None, 6, 6, 32)          0         \n",
      " g2D)                                                            \n",
      "                                                                 \n",
      " dropout_1 (Dropout)         (None, 6, 6, 32)          0         \n",
      "                                                                 \n",
      " flatten (Flatten)           (None, 1152)              0         \n",
      "                                                                 \n",
      " dense (Dense)               (None, 64)                73792     \n",
      "                                                                 \n",
      " dropout_2 (Dropout)         (None, 64)                0         \n",
      "                                                                 \n",
      " dense_1 (Dense)             (None, 20)                1300      \n",
      "                                                                 \n",
      "=================================================================\n",
      "Total params: 85236 (332.95 KB)\n",
      "Trainable params: 85236 (332.95 KB)\n",
      "Non-trainable params: 0 (0.00 Byte)\n",
      "_________________________________________________________________\n"
     ]
    }
   ],
   "source": [
    "model.summary()"
   ]
  },
  {
   "cell_type": "code",
   "execution_count": 8,
   "metadata": {},
   "outputs": [],
   "source": [
    "# create resnet-like model?\n",
    "\n",
    "def create_model():\n",
    "    def block(x, filters, kernel_size):\n",
    "        y = tf.keras.layers.Conv2D(filters, kernel_size, activation='relu', padding='same')(x)\n",
    "        y = tf.keras.layers.Conv2D(filters, kernel_size, activation='relu', padding='same')(x)\n",
    "        y = tf.keras.layers.Add()([x, y])\n",
    "        y = tf.keras.layers.Activation('relu')(y)\n",
    "        return y\n",
    "\n",
    "    filters_and_kernels = [\n",
    "        (128, (2,2)),\n",
    "        (64, (2,2)),\n",
    "        (32, (4,4)),\n",
    "    ]\n",
    "\n",
    "    x = tf.keras.layers.Input((32, 32, 3), dtype=tf.float32)\n",
    "    y = tf.keras.layers.Conv2D(filters_and_kernels[0][0], filters_and_kernels[0][1], padding='same')(x)\n",
    "    for filters, kernel_size in filters_and_kernels:\n",
    "        y = block(y, filters, kernel_size)\n",
    "        y = tf.keras.layers.Dropout(0.1)(y)\n",
    "        y = tf.keras.layers.MaxPool2D((2, 2))(y)\n",
    "    \n",
    "    y = tf.keras.layers.Flatten()(y)\n",
    "\n",
    "    return tf.keras.Model(inputs=x, outputs=y, name='cifar-model')"
   ]
  },
  {
   "cell_type": "code",
   "execution_count": 8,
   "metadata": {},
   "outputs": [
    {
     "name": "stdout",
     "output_type": "stream",
     "text": [
      "Epoch 1/100\n"
     ]
    },
    {
     "name": "stdout",
     "output_type": "stream",
     "text": [
      "157/157 [==============================] - 15s 90ms/step - loss: 2.6939 - accuracy: 0.1715 - val_loss: 2.4482 - val_accuracy: 0.2593\n",
      "Epoch 2/100\n",
      "157/157 [==============================] - 13s 86ms/step - loss: 2.3769 - accuracy: 0.2699 - val_loss: 2.2526 - val_accuracy: 0.3131\n",
      "Epoch 3/100\n",
      "157/157 [==============================] - 14s 86ms/step - loss: 2.2420 - accuracy: 0.3088 - val_loss: 2.1750 - val_accuracy: 0.3349\n",
      "Epoch 4/100\n",
      "157/157 [==============================] - 14s 87ms/step - loss: 2.1588 - accuracy: 0.3335 - val_loss: 2.1004 - val_accuracy: 0.3555\n",
      "Epoch 5/100\n",
      "157/157 [==============================] - 14s 88ms/step - loss: 2.1029 - accuracy: 0.3459 - val_loss: 2.0389 - val_accuracy: 0.3757\n",
      "Epoch 6/100\n",
      "157/157 [==============================] - 14s 88ms/step - loss: 2.0515 - accuracy: 0.3641 - val_loss: 2.0015 - val_accuracy: 0.3881\n",
      "Epoch 7/100\n",
      "157/157 [==============================] - 14s 88ms/step - loss: 2.0078 - accuracy: 0.3775 - val_loss: 1.9717 - val_accuracy: 0.3929\n",
      "Epoch 8/100\n",
      "157/157 [==============================] - 14s 86ms/step - loss: 1.9731 - accuracy: 0.3869 - val_loss: 1.9363 - val_accuracy: 0.4060\n",
      "Epoch 9/100\n",
      "157/157 [==============================] - 14s 87ms/step - loss: 1.9375 - accuracy: 0.3963 - val_loss: 1.9092 - val_accuracy: 0.4123\n",
      "Epoch 10/100\n",
      "157/157 [==============================] - 14s 86ms/step - loss: 1.9080 - accuracy: 0.4096 - val_loss: 1.8972 - val_accuracy: 0.4171\n",
      "Epoch 11/100\n",
      "157/157 [==============================] - 14s 87ms/step - loss: 1.8813 - accuracy: 0.4157 - val_loss: 1.8532 - val_accuracy: 0.4332\n",
      "Epoch 12/100\n",
      "157/157 [==============================] - 14s 89ms/step - loss: 1.8559 - accuracy: 0.4265 - val_loss: 1.8441 - val_accuracy: 0.4345\n",
      "Epoch 13/100\n",
      "157/157 [==============================] - 14s 88ms/step - loss: 1.8355 - accuracy: 0.4272 - val_loss: 1.8169 - val_accuracy: 0.4432\n",
      "Epoch 14/100\n",
      "157/157 [==============================] - 14s 87ms/step - loss: 1.8055 - accuracy: 0.4379 - val_loss: 1.8097 - val_accuracy: 0.4443\n",
      "Epoch 15/100\n",
      "157/157 [==============================] - 14s 87ms/step - loss: 1.7955 - accuracy: 0.4420 - val_loss: 1.7938 - val_accuracy: 0.4526\n",
      "Epoch 16/100\n",
      "157/157 [==============================] - 14s 88ms/step - loss: 1.7724 - accuracy: 0.4489 - val_loss: 1.7970 - val_accuracy: 0.4512\n",
      "Epoch 17/100\n",
      "157/157 [==============================] - 14s 90ms/step - loss: 1.7595 - accuracy: 0.4520 - val_loss: 1.7815 - val_accuracy: 0.4536\n",
      "Epoch 18/100\n",
      "157/157 [==============================] - 14s 89ms/step - loss: 1.7435 - accuracy: 0.4558 - val_loss: 1.7582 - val_accuracy: 0.4622\n",
      "Epoch 19/100\n",
      "157/157 [==============================] - 14s 89ms/step - loss: 1.7285 - accuracy: 0.4606 - val_loss: 1.7685 - val_accuracy: 0.4584\n",
      "Epoch 20/100\n",
      "157/157 [==============================] - 14s 89ms/step - loss: 1.7147 - accuracy: 0.4623 - val_loss: 1.7511 - val_accuracy: 0.4630\n",
      "Epoch 21/100\n",
      "157/157 [==============================] - 14s 87ms/step - loss: 1.7013 - accuracy: 0.4665 - val_loss: 1.7476 - val_accuracy: 0.4644\n",
      "Epoch 22/100\n",
      "157/157 [==============================] - 14s 89ms/step - loss: 1.6857 - accuracy: 0.4700 - val_loss: 1.7429 - val_accuracy: 0.4670\n",
      "Epoch 23/100\n",
      "157/157 [==============================] - 16s 98ms/step - loss: 1.6726 - accuracy: 0.4760 - val_loss: 1.7357 - val_accuracy: 0.4672\n",
      "Epoch 24/100\n",
      "157/157 [==============================] - 15s 97ms/step - loss: 1.6661 - accuracy: 0.4757 - val_loss: 1.7285 - val_accuracy: 0.4695\n",
      "Epoch 25/100\n",
      "157/157 [==============================] - 15s 95ms/step - loss: 1.6518 - accuracy: 0.4807 - val_loss: 1.7321 - val_accuracy: 0.4675\n",
      "Epoch 26/100\n",
      "157/157 [==============================] - 14s 87ms/step - loss: 1.6397 - accuracy: 0.4839 - val_loss: 1.7136 - val_accuracy: 0.4706\n",
      "Epoch 27/100\n",
      "157/157 [==============================] - 14s 88ms/step - loss: 1.6323 - accuracy: 0.4866 - val_loss: 1.7151 - val_accuracy: 0.4740\n",
      "Epoch 28/100\n",
      "157/157 [==============================] - 14s 89ms/step - loss: 1.6272 - accuracy: 0.4891 - val_loss: 1.7132 - val_accuracy: 0.4756\n",
      "Epoch 29/100\n",
      "157/157 [==============================] - 14s 87ms/step - loss: 1.6089 - accuracy: 0.4953 - val_loss: 1.7077 - val_accuracy: 0.4753\n",
      "Epoch 30/100\n",
      "157/157 [==============================] - 14s 88ms/step - loss: 1.6043 - accuracy: 0.4943 - val_loss: 1.7266 - val_accuracy: 0.4688\n",
      "Epoch 31/100\n",
      "157/157 [==============================] - 14s 88ms/step - loss: 1.6022 - accuracy: 0.4944 - val_loss: 1.7000 - val_accuracy: 0.4760\n",
      "Epoch 32/100\n",
      "157/157 [==============================] - 14s 88ms/step - loss: 1.5851 - accuracy: 0.5008 - val_loss: 1.7315 - val_accuracy: 0.4689\n",
      "Epoch 33/100\n",
      "157/157 [==============================] - 14s 88ms/step - loss: 1.5714 - accuracy: 0.5058 - val_loss: 1.7068 - val_accuracy: 0.4742\n"
     ]
    }
   ],
   "source": [
    "history = model.fit(\n",
    "    train, \n",
    "    epochs=100, \n",
    "    validation_data=val,\n",
    "    callbacks=[tf.keras.callbacks.EarlyStopping(patience=2)],\n",
    ")"
   ]
  },
  {
   "cell_type": "code",
   "execution_count": 9,
   "metadata": {},
   "outputs": [
    {
     "name": "stdout",
     "output_type": "stream",
     "text": [
      "20/20 [==============================] - 1s 35ms/step - loss: 1.7020 - accuracy: 0.4734\n"
     ]
    },
    {
     "data": {
      "text/plain": [
       "[1.702022671699524, 0.4733999967575073]"
      ]
     },
     "execution_count": 9,
     "metadata": {},
     "output_type": "execute_result"
    }
   ],
   "source": [
    "model.evaluate(test)"
   ]
  },
  {
   "cell_type": "code",
   "execution_count": 10,
   "metadata": {},
   "outputs": [
    {
     "data": {
      "text/plain": [
       "Text(0.5, 1.0, 'Accuracy on CIFAR-100')"
      ]
     },
     "execution_count": 10,
     "metadata": {},
     "output_type": "execute_result"
    },
    {
     "data": {
      "image/png": "[encoded data removed]",
      "text/plain": [
       "<Figure size 640x480 with 1 Axes>"
      ]
     },
     "metadata": {},
     "output_type": "display_data"
    }
   ],
   "source": [
    "plt.plot(history.history['accuracy'])\n",
    "plt.plot(history.history['val_accuracy'])\n",
    "plt.legend(['train', 'val'], loc='upper left')\n",
    "plt.xlabel('epoch')\n",
    "plt.ylabel('accuracy')\n",
    "plt.title('Accuracy on CIFAR-100')"
   ]
  },
  {
   "cell_type": "code",
   "execution_count": null,
   "metadata": {},
   "outputs": [],
   "source": []
  }
 ],
 "metadata": {
  "kernelspec": {
   "display_name": "flidp-tf",
   "language": "python",
   "name": "python3"
  },
  "language_info": {
   "codemirror_mode": {
    "name": "ipython",
    "version": 3
   },
   "file_extension": ".py",
   "mimetype": "text/x-python",
   "name": "python",
   "nbconvert_exporter": "python",
   "pygments_lexer": "ipython3",
   "version": "3.11.8"
  }
 },
 "nbformat": 4,
 "nbformat_minor": 2
}
