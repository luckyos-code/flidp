{
 "cells": [
  {
   "cell_type": "code",
   "execution_count": 6,
   "metadata": {},
   "outputs": [
    {
     "name": "stderr",
     "output_type": "stream",
     "text": [
      "2024-08-02 17:36:02.913270: I tensorflow/tsl/cuda/cudart_stub.cc:28] Could not find cuda drivers on your machine, GPU will not be used.\n",
      "2024-08-02 17:36:03.067106: E tensorflow/compiler/xla/stream_executor/cuda/cuda_dnn.cc:9342] Unable to register cuDNN factory: Attempting to register factory for plugin cuDNN when one has already been registered\n",
      "2024-08-02 17:36:03.067140: E tensorflow/compiler/xla/stream_executor/cuda/cuda_fft.cc:609] Unable to register cuFFT factory: Attempting to register factory for plugin cuFFT when one has already been registered\n",
      "2024-08-02 17:36:03.067654: E tensorflow/compiler/xla/stream_executor/cuda/cuda_blas.cc:1518] Unable to register cuBLAS factory: Attempting to register factory for plugin cuBLAS when one has already been registered\n",
      "2024-08-02 17:36:03.146646: I tensorflow/tsl/cuda/cudart_stub.cc:28] Could not find cuda drivers on your machine, GPU will not be used.\n",
      "2024-08-02 17:36:03.147849: I tensorflow/core/platform/cpu_feature_guard.cc:182] This TensorFlow binary is optimized to use available CPU instructions in performance-critical operations.\n",
      "To enable the following instructions: AVX2 FMA, in other operations, rebuild TensorFlow with the appropriate compiler flags.\n",
      "2024-08-02 17:36:04.183124: W tensorflow/compiler/tf2tensorrt/utils/py_utils.cc:38] TF-TRT Warning: Could not find TensorRT\n"
     ]
    }
   ],
   "source": [
    "from pathlib import Path\n",
    "\n",
    "import numpy as np\n",
    "import pandas as pd\n",
    "import tensorflow as tf\n",
    "import tensorflow_datasets as tfds\n",
    "import tensorflow_federated as tff\n",
    "\n",
    "import matplotlib.pyplot as plt"
   ]
  },
  {
   "cell_type": "code",
   "execution_count": 7,
   "metadata": {},
   "outputs": [],
   "source": [
    "SAVE_DIR = Path(\"/home/ole/masterarbeit/flidp/dataset-cache/svhn_v2\")"
   ]
  },
  {
   "cell_type": "code",
   "execution_count": 6,
   "metadata": {},
   "outputs": [
    {
     "data": {
      "text/plain": [
       "(73257, 26032)"
      ]
     },
     "execution_count": 6,
     "metadata": {},
     "output_type": "execute_result"
    }
   ],
   "source": [
    "train_ds = tfds.load(\"svhn_cropped\", split=\"train\")\n",
    "test_ds = tfds.load(\"svhn_cropped\", split=\"test\")\n",
    "len(train_ds), len(test_ds)"
   ]
  },
  {
   "cell_type": "code",
   "execution_count": 7,
   "metadata": {},
   "outputs": [
    {
     "data": {
      "text/plain": [
       "(73257, 26032)"
      ]
     },
     "execution_count": 7,
     "metadata": {},
     "output_type": "execute_result"
    }
   ],
   "source": [
    "train_df = tfds.as_dataframe(train_ds)\n",
    "test_df = tfds.as_dataframe(test_ds)\n",
    "len(train_df), len(test_df)"
   ]
  },
  {
   "cell_type": "code",
   "execution_count": 13,
   "metadata": {},
   "outputs": [],
   "source": [
    "TRAIN_CLIENTS = 725\n",
    "TEST_CLIENTS = 250"
   ]
  },
  {
   "cell_type": "code",
   "execution_count": 8,
   "metadata": {},
   "outputs": [
    {
     "data": {
      "text/plain": [
       "(array([13861, 10585,  8497,  7458,  6882,  5727,  5595,  5045,  4948,\n",
       "         4659]),\n",
       " array([5099, 4149, 2882, 2523, 2384, 2019, 1977, 1744, 1660, 1595]))"
      ]
     },
     "execution_count": 8,
     "metadata": {},
     "output_type": "execute_result"
    }
   ],
   "source": [
    "train_label_counts = train_df['label'].sort_values().value_counts().to_numpy()\n",
    "test_label_counts = test_df['label'].sort_values().value_counts().to_numpy()\n",
    "\n",
    "train_label_counts, test_label_counts"
   ]
  },
  {
   "cell_type": "code",
   "execution_count": 15,
   "metadata": {},
   "outputs": [],
   "source": [
    "def assign_clients_to_df(df, num_clients):\n",
    "    client_ids = np.array(range(num_clients))\n",
    "    client_assignments = np.random.choice(client_ids, size=len(df))\n",
    "    df['client_id'] = list(map(lambda x: f\"client_{x}\", client_assignments))\n",
    "    return df"
   ]
  },
  {
   "cell_type": "code",
   "execution_count": 16,
   "metadata": {},
   "outputs": [
    {
     "data": {
      "text/plain": [
       "(73257, 26032)"
      ]
     },
     "execution_count": 16,
     "metadata": {},
     "output_type": "execute_result"
    }
   ],
   "source": [
    "train_df_with_clients = assign_clients_to_df(train_df, TRAIN_CLIENTS)\n",
    "test_df_with_clients = assign_clients_to_df(test_df, TEST_CLIENTS)\n",
    "len(train_df_with_clients), len(test_df_with_clients)"
   ]
  },
  {
   "cell_type": "code",
   "execution_count": 17,
   "metadata": {},
   "outputs": [
    {
     "data": {
      "text/html": [
       "<div>\n",
       "<style scoped>\n",
       "    .dataframe tbody tr th:only-of-type {\n",
       "        vertical-align: middle;\n",
       "    }\n",
       "\n",
       "    .dataframe tbody tr th {\n",
       "        vertical-align: top;\n",
       "    }\n",
       "\n",
       "    .dataframe thead th {\n",
       "        text-align: right;\n",
       "    }\n",
       "</style>\n",
       "<table border=\"1\" class=\"dataframe\">\n",
       "  <thead>\n",
       "    <tr style=\"text-align: right;\">\n",
       "      <th></th>\n",
       "      <th>image</th>\n",
       "      <th>label</th>\n",
       "      <th>client_id</th>\n",
       "    </tr>\n",
       "  </thead>\n",
       "  <tbody>\n",
       "    <tr>\n",
       "      <th>0</th>\n",
       "      <td>[[[126, 138, 136], [128, 138, 137], [129, 139,...</td>\n",
       "      <td>4</td>\n",
       "      <td>client_143</td>\n",
       "    </tr>\n",
       "    <tr>\n",
       "      <th>1</th>\n",
       "      <td>[[[78, 86, 105], [80, 87, 107], [78, 85, 106],...</td>\n",
       "      <td>8</td>\n",
       "      <td>client_291</td>\n",
       "    </tr>\n",
       "    <tr>\n",
       "      <th>2</th>\n",
       "      <td>[[[66, 65, 65], [72, 73, 72], [76, 77, 77], [8...</td>\n",
       "      <td>7</td>\n",
       "      <td>client_416</td>\n",
       "    </tr>\n",
       "    <tr>\n",
       "      <th>3</th>\n",
       "      <td>[[[85, 83, 96], [68, 66, 80], [58, 56, 75], [5...</td>\n",
       "      <td>2</td>\n",
       "      <td>client_483</td>\n",
       "    </tr>\n",
       "    <tr>\n",
       "      <th>4</th>\n",
       "      <td>[[[186, 191, 185], [186, 192, 185], [186, 193,...</td>\n",
       "      <td>6</td>\n",
       "      <td>client_488</td>\n",
       "    </tr>\n",
       "  </tbody>\n",
       "</table>\n",
       "</div>"
      ],
      "text/plain": [
       "                                               image  label   client_id\n",
       "0  [[[126, 138, 136], [128, 138, 137], [129, 139,...      4  client_143\n",
       "1  [[[78, 86, 105], [80, 87, 107], [78, 85, 106],...      8  client_291\n",
       "2  [[[66, 65, 65], [72, 73, 72], [76, 77, 77], [8...      7  client_416\n",
       "3  [[[85, 83, 96], [68, 66, 80], [58, 56, 75], [5...      2  client_483\n",
       "4  [[[186, 191, 185], [186, 192, 185], [186, 193,...      6  client_488"
      ]
     },
     "execution_count": 17,
     "metadata": {},
     "output_type": "execute_result"
    }
   ],
   "source": [
    "train_df_with_clients.head()"
   ]
  },
  {
   "cell_type": "code",
   "execution_count": 18,
   "metadata": {},
   "outputs": [],
   "source": [
    "def make_client_getter(df):\n",
    "    def get_tf_dataset_for_client(client_id):\n",
    "        client_df = df[df['client_id'] == client_id]\n",
    "        client_images = tf.convert_to_tensor(client_df['image'].to_list(), dtype=tf.int64)\n",
    "        client_labels = tf.convert_to_tensor(client_df['label'].to_list(), dtype=tf.int64)\n",
    "        \n",
    "        client_ds = tf.data.Dataset.from_tensor_slices(\n",
    "            {\n",
    "                'image': client_images[:], \n",
    "                'label': client_labels[:],\n",
    "            }\n",
    "        )\n",
    "        return client_ds\n",
    "    return get_tf_dataset_for_client"
   ]
  },
  {
   "cell_type": "code",
   "execution_count": 19,
   "metadata": {},
   "outputs": [],
   "source": [
    "tff.simulation.datasets.save_to_sql_client_data(\n",
    "    client_ids=train_df_with_clients['client_id'].unique(),\n",
    "    dataset_fn=make_client_getter(train_df_with_clients),\n",
    "    database_filepath=str(Path(SAVE_DIR) / 'train.sqlite'),\n",
    "    allow_overwrite=True,\n",
    ")\n",
    "tff.simulation.datasets.save_to_sql_client_data(\n",
    "    client_ids=test_df_with_clients['client_id'].unique(),\n",
    "    dataset_fn=make_client_getter(test_df_with_clients),\n",
    "    database_filepath=str(Path(SAVE_DIR) / 'test.sqlite'),\n",
    "    allow_overwrite=True,\n",
    ")"
   ]
  },
  {
   "cell_type": "code",
   "execution_count": 8,
   "metadata": {},
   "outputs": [],
   "source": [
    "def load_svhn(svhn_dir: str):\n",
    "    svhn_spec = {\n",
    "        'image': tf.TensorSpec((32, 32, 3), dtype=tf.int64),\n",
    "        'label': tf.TensorSpec((), dtype=tf.int64),\n",
    "    }\n",
    "    train_client_data =  tff.simulation.datasets.load_and_parse_sql_client_data(str(Path(svhn_dir) / 'train.sqlite'), element_spec=svhn_spec, split_name=None)\n",
    "    test_client_data = tff.simulation.datasets.load_and_parse_sql_client_data(str(Path(svhn_dir) / 'test.sqlite'), element_spec=svhn_spec, split_name=None)\n",
    "    return train_client_data, test_client_data"
   ]
  },
  {
   "cell_type": "code",
   "execution_count": 9,
   "metadata": {},
   "outputs": [],
   "source": [
    "train_ds, test_ds = load_svhn(SAVE_DIR)"
   ]
  },
  {
   "cell_type": "code",
   "execution_count": 11,
   "metadata": {},
   "outputs": [],
   "source": [
    "from tqdm.auto import tqdm"
   ]
  },
  {
   "cell_type": "code",
   "execution_count": 12,
   "metadata": {},
   "outputs": [
    {
     "name": "stderr",
     "output_type": "stream",
     "text": [
      "73257it [01:04, 1135.63it/s]\n"
     ]
    },
    {
     "data": {
      "text/plain": [
       "73257"
      ]
     },
     "execution_count": 12,
     "metadata": {},
     "output_type": "execute_result"
    }
   ],
   "source": [
    "train_examples = 0\n",
    "for _ in tqdm(iter(train_ds.create_tf_dataset_from_all_clients())):\n",
    "    train_examples += 1\n",
    "train_examples"
   ]
  },
  {
   "cell_type": "code",
   "execution_count": 13,
   "metadata": {},
   "outputs": [
    {
     "name": "stderr",
     "output_type": "stream",
     "text": [
      "26032it [00:08, 3039.97it/s]\n"
     ]
    },
    {
     "data": {
      "text/plain": [
       "26032"
      ]
     },
     "execution_count": 13,
     "metadata": {},
     "output_type": "execute_result"
    }
   ],
   "source": [
    "test_examples = 0\n",
    "for _ in tqdm(iter(test_ds.create_tf_dataset_from_all_clients())):\n",
    "    test_examples += 1\n",
    "test_examples"
   ]
  },
  {
   "cell_type": "code",
   "execution_count": 14,
   "metadata": {},
   "outputs": [
    {
     "data": {
      "text/plain": [
       "(725, 250)"
      ]
     },
     "execution_count": 14,
     "metadata": {},
     "output_type": "execute_result"
    }
   ],
   "source": [
    "len(train_ds.client_ids), len(test_ds.client_ids)"
   ]
  },
  {
   "cell_type": "code",
   "execution_count": 22,
   "metadata": {},
   "outputs": [
    {
     "data": {
      "text/plain": [
       "(<matplotlib.image.AxesImage at 0x7a52f0206e10>,\n",
       " <tf.Tensor: shape=(), dtype=int64, numpy=8>)"
      ]
     },
     "execution_count": 22,
     "metadata": {},
     "output_type": "execute_result"
    },
    {
     "data": {
      "image/png": "[encoded data removed]",
      "text/plain": [
       "<Figure size 640x480 with 1 Axes>"
      ]
     },
     "metadata": {},
     "output_type": "display_data"
    }
   ],
   "source": [
    "i = 15\n",
    "for _ in range(i):\n",
    "    ex = next(iter(train_ds.create_tf_dataset_from_all_clients()))\n",
    "plt.imshow(ex['image']), ex['label']"
   ]
  },
  {
   "cell_type": "code",
   "execution_count": 23,
   "metadata": {},
   "outputs": [
    {
     "data": {
      "text/plain": [
       "(<matplotlib.image.AxesImage at 0x7a52f04a5a10>,\n",
       " <tf.Tensor: shape=(), dtype=int64, numpy=9>)"
      ]
     },
     "execution_count": 23,
     "metadata": {},
     "output_type": "execute_result"
    },
    {
     "data": {
      "image/png": "[encoded data removed]",
      "text/plain": [
       "<Figure size 640x480 with 1 Axes>"
      ]
     },
     "metadata": {},
     "output_type": "display_data"
    }
   ],
   "source": [
    "i = 15\n",
    "for _ in range(i):\n",
    "    ex = next(iter(test_ds.create_tf_dataset_from_all_clients()))\n",
    "plt.imshow(ex['image']), ex['label']"
   ]
  },
  {
   "cell_type": "code",
   "execution_count": 25,
   "metadata": {},
   "outputs": [
    {
     "data": {
      "text/plain": [
       "204"
      ]
     },
     "execution_count": 25,
     "metadata": {},
     "output_type": "execute_result"
    }
   ],
   "source": [
    "np.max(ex['image'])"
   ]
  },
  {
   "cell_type": "code",
   "execution_count": null,
   "metadata": {},
   "outputs": [],
   "source": []
  }
 ],
 "metadata": {
  "kernelspec": {
   "display_name": "flidp-tf",
   "language": "python",
   "name": "python3"
  },
  "language_info": {
   "codemirror_mode": {
    "name": "ipython",
    "version": 3
   },
   "file_extension": ".py",
   "mimetype": "text/x-python",
   "name": "python",
   "nbconvert_exporter": "python",
   "pygments_lexer": "ipython3",
   "version": "3.11.8"
  }
 },
 "nbformat": 4,
 "nbformat_minor": 2
}
