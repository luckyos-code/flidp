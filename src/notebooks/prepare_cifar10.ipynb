{
 "cells": [
  {
   "cell_type": "code",
   "execution_count": 188,
   "metadata": {},
   "outputs": [],
   "source": [
    "from pathlib import Path\n",
    "\n",
    "import numpy as np\n",
    "import pandas as pd\n",
    "import tensorflow as tf\n",
    "import tensorflow_datasets as tfds\n",
    "import tensorflow_federated as tff\n",
    "\n",
    "import matplotlib.pyplot as plt"
   ]
  },
  {
   "cell_type": "code",
   "execution_count": 206,
   "metadata": {},
   "outputs": [],
   "source": [
    "NUMBER_TO_LABEL = [\n",
    "    \"airplane\",\n",
    "    \"automobile\",\n",
    "    \"bird\",\n",
    "    \"cat\",\n",
    "    \"deer\",\n",
    "    \"dog\",\n",
    "    \"frog\",\n",
    "    \"horse\",\n",
    "    \"ship\",\n",
    "    \"truck\",\n",
    "]"
   ]
  },
  {
   "cell_type": "code",
   "execution_count": 180,
   "metadata": {},
   "outputs": [],
   "source": [
    "SAVE_DIR = Path(\"/home/ole/masterarbeit/flidp/dataset-cache/cifar10\")"
   ]
  },
  {
   "cell_type": "code",
   "execution_count": 2,
   "metadata": {},
   "outputs": [
    {
     "name": "stderr",
     "output_type": "stream",
     "text": [
      "2024-07-24 13:41:10.743856: I tensorflow/tsl/cuda/cudart_stub.cc:28] Could not find cuda drivers on your machine, GPU will not be used.\n",
      "2024-07-24 13:41:10.916245: E tensorflow/compiler/xla/stream_executor/cuda/cuda_dnn.cc:9342] Unable to register cuDNN factory: Attempting to register factory for plugin cuDNN when one has already been registered\n",
      "2024-07-24 13:41:10.916280: E tensorflow/compiler/xla/stream_executor/cuda/cuda_fft.cc:609] Unable to register cuFFT factory: Attempting to register factory for plugin cuFFT when one has already been registered\n",
      "2024-07-24 13:41:10.918263: E tensorflow/compiler/xla/stream_executor/cuda/cuda_blas.cc:1518] Unable to register cuBLAS factory: Attempting to register factory for plugin cuBLAS when one has already been registered\n",
      "2024-07-24 13:41:11.032377: I tensorflow/tsl/cuda/cudart_stub.cc:28] Could not find cuda drivers on your machine, GPU will not be used.\n",
      "2024-07-24 13:41:11.033280: I tensorflow/core/platform/cpu_feature_guard.cc:182] This TensorFlow binary is optimized to use available CPU instructions in performance-critical operations.\n",
      "To enable the following instructions: AVX2 FMA, in other operations, rebuild TensorFlow with the appropriate compiler flags.\n",
      "2024-07-24 13:41:12.035666: W tensorflow/compiler/tf2tensorrt/utils/py_utils.cc:38] TF-TRT Warning: Could not find TensorRT\n"
     ]
    }
   ],
   "source": [
    "train_ds = tfds.load(\"cifar10\", split=\"train\")\n",
    "test_ds = tfds.load(\"cifar10\", split=\"test\")"
   ]
  },
  {
   "cell_type": "code",
   "execution_count": 3,
   "metadata": {},
   "outputs": [
    {
     "data": {
      "text/plain": [
       "(50000, 10000)"
      ]
     },
     "execution_count": 3,
     "metadata": {},
     "output_type": "execute_result"
    }
   ],
   "source": [
    "train_df = tfds.as_dataframe(train_ds)\n",
    "test_df = tfds.as_dataframe(test_ds)\n",
    "len(train_df), len(test_df)"
   ]
  },
  {
   "cell_type": "code",
   "execution_count": 75,
   "metadata": {},
   "outputs": [],
   "source": [
    "TRAIN_CLIENTS = 500\n",
    "TEST_CLIENTS = 100"
   ]
  },
  {
   "cell_type": "code",
   "execution_count": 6,
   "metadata": {},
   "outputs": [
    {
     "data": {
      "text/plain": [
       "(array([5000, 5000, 5000, 5000, 5000, 5000, 5000, 5000, 5000, 5000]),\n",
       " array([1000, 1000, 1000, 1000, 1000, 1000, 1000, 1000, 1000, 1000]))"
      ]
     },
     "execution_count": 6,
     "metadata": {},
     "output_type": "execute_result"
    }
   ],
   "source": [
    "train_label_counts = train_df['label'].sort_values().value_counts().to_numpy()\n",
    "test_label_counts = test_df['label'].sort_values().value_counts().to_numpy()\n",
    "\n",
    "train_label_counts, test_label_counts"
   ]
  },
  {
   "cell_type": "code",
   "execution_count": 16,
   "metadata": {},
   "outputs": [],
   "source": [
    "def init_client_distributions(num_clients, label_counts):\n",
    "    return np.random.dirichlet(label_counts / sum(label_counts), size=num_clients)"
   ]
  },
  {
   "cell_type": "code",
   "execution_count": 132,
   "metadata": {},
   "outputs": [],
   "source": [
    "def init_client_labels(num_clients, examples_per_label):\n",
    "    \"\"\"Assigns labels to clients by giving a label distribution to each client that is drawn from a dirichlet distribution.\"\"\"\n",
    "    assert min(examples_per_label) > 0, \"There are some labels that don't have any examples!\"\n",
    "    examples_per_label = examples_per_label.copy()\n",
    "    labels = np.array(range(len(examples_per_label))).astype(int)\n",
    "    client_labels = np.zeros((num_clients, len(labels))).astype(int)\n",
    "    current_client = 0\n",
    "    while len(labels) > 0:\n",
    "        client_distributions = init_client_distributions(num_clients, examples_per_label)\n",
    "        while min(examples_per_label) > 0:\n",
    "            new_label = np.random.choice(labels, p=client_distributions[current_client])\n",
    "            new_label_pos = np.argwhere(labels == new_label) \n",
    "            examples_per_label[new_label_pos] -= 1\n",
    "            client_labels[current_client][new_label] += 1\n",
    "            current_client = (current_client + 1) % num_clients\n",
    "        empty_label = labels[np.argmin(examples_per_label)]\n",
    "        labels = labels[np.where(labels != empty_label)]\n",
    "        examples_per_label = examples_per_label[examples_per_label > 0]\n",
    "\n",
    "    return client_labels"
   ]
  },
  {
   "cell_type": "code",
   "execution_count": 167,
   "metadata": {},
   "outputs": [],
   "source": [
    "def assign_examples_to_clients(client_labels, df):\n",
    "    \"\"\"Assigns each example to a random client that has a count for the example's label > 0. Returns a list of those assignments\"\"\"\n",
    "    assert np.sum(client_labels) == len(df), \"The total number of examples mismatch.\"\n",
    "    client_labels = client_labels.copy()\n",
    "    client_assignments = []\n",
    "    for i in range(len(df)):\n",
    "        ex = df.iloc[i]\n",
    "        label = ex['label']\n",
    "        clients_for_label = client_labels[:, label]\n",
    "        possible_clients = np.argwhere(clients_for_label > 0).reshape(-1)\n",
    "        selected_client = np.random.choice(possible_clients)\n",
    "        client_assignments.append(selected_client)\n",
    "        client_labels[selected_client, label] -= 1    \n",
    "    \n",
    "    assert np.all(client_labels == 0)\n",
    "\n",
    "    return client_assignments"
   ]
  },
  {
   "cell_type": "code",
   "execution_count": 175,
   "metadata": {},
   "outputs": [],
   "source": [
    "def assign_clients_to_df(df, num_clients):\n",
    "    label_counts = df['label'].sort_values().value_counts().to_numpy()\n",
    "    client_labels = init_client_labels(num_clients, label_counts)\n",
    "    client_assignments = assign_examples_to_clients(client_labels, df)\n",
    "    df['client_ids'] = pd.Series(client_assignments).map(lambda x: f\"client_{x}\")\n",
    "\n",
    "    return df"
   ]
  },
  {
   "cell_type": "code",
   "execution_count": 176,
   "metadata": {},
   "outputs": [],
   "source": [
    "train_df = assign_clients_to_df(train_df, TRAIN_CLIENTS)\n",
    "test_df = assign_clients_to_df(test_df, TEST_CLIENTS)"
   ]
  },
  {
   "cell_type": "code",
   "execution_count": 195,
   "metadata": {},
   "outputs": [],
   "source": [
    "def make_client_getter(df):\n",
    "    def get_tf_dataset_for_client(client_id):\n",
    "        client_df = df[df['client_ids'] == client_id]\n",
    "        client_images = tf.convert_to_tensor(client_df['image'].to_list(), dtype=tf.int64)\n",
    "        client_labels = tf.convert_to_tensor(client_df['label'].to_list(), dtype=tf.int64)\n",
    "        \n",
    "        client_ds = tf.data.Dataset.from_tensor_slices(\n",
    "            {\n",
    "                'image': client_images[:], \n",
    "                'label': client_labels[:],\n",
    "            }\n",
    "        )\n",
    "        return client_ds\n",
    "    return get_tf_dataset_for_client"
   ]
  },
  {
   "cell_type": "code",
   "execution_count": 196,
   "metadata": {},
   "outputs": [],
   "source": [
    "tff.simulation.datasets.save_to_sql_client_data(\n",
    "    client_ids=train_df['client_ids'].unique(),\n",
    "    dataset_fn=make_client_getter(train_df),\n",
    "    database_filepath=str(SAVE_DIR / 'train.sqlite'),\n",
    "    allow_overwrite=True,\n",
    ")"
   ]
  },
  {
   "cell_type": "code",
   "execution_count": 197,
   "metadata": {},
   "outputs": [],
   "source": [
    "tff.simulation.datasets.save_to_sql_client_data(\n",
    "    client_ids=test_df['client_ids'].unique(),\n",
    "    dataset_fn=make_client_getter(test_df),\n",
    "    database_filepath=str(SAVE_DIR / 'test.sqlite'),\n",
    "    allow_overwrite=True,\n",
    ")"
   ]
  },
  {
   "cell_type": "code",
   "execution_count": 202,
   "metadata": {},
   "outputs": [],
   "source": [
    "def load_cifar10(dir: str):\n",
    "    tensor_spec = {\n",
    "        'image': tf.TensorSpec((32, 32, 3), dtype=tf.int64),\n",
    "        'label': tf.TensorSpec((), dtype=tf.int64),\n",
    "    }\n",
    "    train_client_data =  tff.simulation.datasets.load_and_parse_sql_client_data(str(Path(dir) / 'train.sqlite'), element_spec=tensor_spec, split_name=None)\n",
    "    test_client_data = tff.simulation.datasets.load_and_parse_sql_client_data(str(Path(dir) / 'test.sqlite'), element_spec=tensor_spec, split_name=None)\n",
    "    return train_client_data, test_client_data"
   ]
  },
  {
   "cell_type": "code",
   "execution_count": 203,
   "metadata": {},
   "outputs": [],
   "source": [
    "fed_train_ds, fed_test_ds = load_cifar10(SAVE_DIR)"
   ]
  },
  {
   "cell_type": "code",
   "execution_count": 209,
   "metadata": {},
   "outputs": [
    {
     "data": {
      "text/plain": [
       "(<matplotlib.image.AxesImage at 0x768d2ce06a50>, 'ship')"
      ]
     },
     "execution_count": 209,
     "metadata": {},
     "output_type": "execute_result"
    },
    {
     "data": {
      "image/png": "[encoded data removed]",
      "text/plain": [
       "<Figure size 640x480 with 1 Axes>"
      ]
     },
     "metadata": {},
     "output_type": "display_data"
    }
   ],
   "source": [
    "client_id = \"client_23\"\n",
    "client_ds = fed_train_ds.create_tf_dataset_for_client(client_id)\n",
    "client_example = next(client_ds.as_numpy_iterator())\n",
    "plt.imshow(client_example['image']), NUMBER_TO_LABEL[client_example['label']]"
   ]
  },
  {
   "cell_type": "code",
   "execution_count": 210,
   "metadata": {},
   "outputs": [],
   "source": [
    "def plot_label_dist_for_clients(label_df, client_ids):\n",
    "    label_counts = (\n",
    "        label_df\n",
    "        .groupby(['client_ids', 'label'])\n",
    "        .value_counts()\n",
    "        .reset_index()\n",
    "        .pivot(index='client_ids', columns='label', values='count')\n",
    "        .fillna(0)\n",
    "    )\n",
    "\n",
    "    def prepare_axis(ax, ax_num):\n",
    "        if not (ax_num == 0):\n",
    "            ax.tick_params(left=False)\n",
    "            ax.spines['left'].set_visible(False)\n",
    "        ax.spines['top'].set_visible(False)\n",
    "        ax.spines['right'].set_visible(False)\n",
    "        # ax.tick_params(labelbottom=False)\n",
    "\n",
    "    fig = plt.figure(figsize=(15,5))\n",
    "    axes = fig.subplots(ncols=len(client_ids), sharey=True, sharex=True, squeeze=True)\n",
    "    for i, ax in enumerate(axes):\n",
    "        prepare_axis(ax, i)\n",
    "    for ax, (cid, labels) in zip(axes, label_counts.loc[client_ids].iterrows()):\n",
    "        labels.plot(kind='bar', sharey=True, sharex=True, fig=fig, ax=ax, title=f\"Client {cid}\", xlabel='')"
   ]
  },
  {
   "cell_type": "code",
   "execution_count": 217,
   "metadata": {},
   "outputs": [
    {
     "data": {
      "image/png": "[encoded data removed]",
      "text/plain": [
       "<Figure size 1500x500 with 5 Axes>"
      ]
     },
     "metadata": {},
     "output_type": "display_data"
    }
   ],
   "source": [
    "viz_clients = np.random.choice(train_df['client_ids'].unique(), size=5, replace=False).tolist()\n",
    "plot_label_dist_for_clients(train_df[['client_ids', 'label']], viz_clients)"
   ]
  },
  {
   "cell_type": "code",
   "execution_count": null,
   "metadata": {},
   "outputs": [],
   "source": []
  }
 ],
 "metadata": {
  "kernelspec": {
   "display_name": "flidp-tf",
   "language": "python",
   "name": "python3"
  },
  "language_info": {
   "codemirror_mode": {
    "name": "ipython",
    "version": 3
   },
   "file_extension": ".py",
   "mimetype": "text/x-python",
   "name": "python",
   "nbconvert_exporter": "python",
   "pygments_lexer": "ipython3",
   "version": "3.11.8"
  }
 },
 "nbformat": 4,
 "nbformat_minor": 2
}
